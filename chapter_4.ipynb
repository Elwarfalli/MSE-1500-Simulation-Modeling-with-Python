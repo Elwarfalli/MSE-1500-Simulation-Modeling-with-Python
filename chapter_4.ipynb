{
 "cells": [
  {
   "cell_type": "markdown",
   "id": "ab3b9b15",
   "metadata": {},
   "source": [
    "# Chapter 4: Monte Carlo Simulation & Sensitivity Analysis"
   ]
  },
  {
   "cell_type": "markdown",
   "id": "3a073215",
   "metadata": {},
   "source": [
    "## Central Limit Theorem"
   ]
  },
  {
   "cell_type": "code",
   "execution_count": null,
   "id": "c068e1a2",
   "metadata": {},
   "outputs": [],
   "source": [
    "import random\n",
    "import numpy as np\n",
    "import matplotlib.pyplot as plt\n",
    "\n",
    "a = 1\n",
    "b = 100\n",
    "N = 10000  \n",
    "DataPop = list(np.random.uniform(a, b, N))\n",
    "plt.hist(DataPop, density=True, histtype='stepfilled', alpha=0.2)\n",
    "plt.title(\"Original Population Distribution\")\n",
    "plt.show()\n",
    "\n",
    "SamplesMeans = []\n",
    "for i in range(1000):\n",
    "    DataExtracted = random.sample(DataPop, k=100)\n",
    "    DataExtractedMean = np.mean(DataExtracted)\n",
    "    SamplesMeans.append(DataExtractedMean)\n",
    "\n",
    "plt.hist(SamplesMeans, density=True, histtype='stepfilled', alpha=0.2)\n",
    "plt.title(\"Sampling Distribution of Sample Means\")\n",
    "plt.show()"
   ]
  },
  {
   "cell_type": "markdown",
   "id": "5d0b5fbe",
   "metadata": {},
   "source": [
    "## Cross Entropy"
   ]
  },
  {
   "cell_type": "code",
   "execution_count": null,
   "id": "489982db",
   "metadata": {},
   "outputs": [],
   "source": [
    "from matplotlib import pyplot\n",
    "from math import log2\n",
    "\n",
    "events = ['A', 'B', 'C','D']\n",
    "p = [0.70, 0.05, 0.10, 0.15] \n",
    "q = [0.45, 0.10, 0.20, 0.25]\n",
    "print(f'P = {sum(p):.3f}', f'Q = {sum(q):.3f}')\n",
    "\n",
    "pyplot.subplot(2,1,1)\n",
    "pyplot.bar(events, p)\n",
    "pyplot.subplot(2,1,2)\n",
    "pyplot.bar(events, q)\n",
    "pyplot.show()\n",
    "\n",
    "def cross_entropy(p, q):\n",
    "    return -sum([p*log2(q) for p, q in zip(p, q)])\n",
    "\n",
    "h_pq = cross_entropy(p, q)\n",
    "print(f'H(P, Q) =  {h_pq:.3f} bits')"
   ]
  },
  {
   "cell_type": "markdown",
   "id": "107adeb1",
   "metadata": {},
   "source": [
    "## Cross Entropy Loss Function"
   ]
  },
  {
   "cell_type": "code",
   "execution_count": null,
   "id": "ae8b6d62",
   "metadata": {},
   "outputs": [],
   "source": [
    "import numpy as np\n",
    "\n",
    "y = np.array([1.0, 0.0, 1.0, 0.0, 1.0, 0.0, 1.0, 0.0, 1.0, 0.0])\n",
    "p = np.array([0.8, 0.1, 0.9, 0.2, 0.8, 0.1, 0.7, 0.3, 0.6, 0.4])\n",
    "\n",
    "ce_loss = -sum(y*np.log(p)+(1-y)*np.log(1-p))\n",
    "ce_loss = ce_loss/len(p)\n",
    "print(f'Cross Entropy Loss =  {ce_loss:.3f} nats')"
   ]
  },
  {
   "cell_type": "markdown",
   "id": "1ef170f6",
   "metadata": {},
   "source": [
    "## Numerical Integration (Monte Carlo Method)"
   ]
  },
  {
   "cell_type": "code",
   "execution_count": null,
   "id": "4b2e9aa3",
   "metadata": {},
   "outputs": [],
   "source": [
    "import random \n",
    "import numpy as np\n",
    "import matplotlib.pyplot as plt\n",
    "\n",
    "random.seed(2)\n",
    "f = lambda x: x**2\n",
    "a = 0.0\n",
    "b = 3.0\n",
    "NumSteps = 1000000 \n",
    "XIntegral = []  \n",
    "YIntegral = []\n",
    "XRectangle = []  \n",
    "YRectangle = []\n",
    "\n",
    "ymin = f(a)\n",
    "ymax = ymin\n",
    "for i in range(NumSteps):\n",
    "    x = a + (b - a) * float(i) / NumSteps\n",
    "    y = f(x)\n",
    "    ymin = min(y, ymin)\n",
    "    ymax = max(y, ymax)\n",
    "\n",
    "A = (b - a) * (ymax - ymin)\n",
    "N = 1000000 \n",
    "M = 0\n",
    "for k in range(N):\n",
    "    x = a + (b - a) * random.random()\n",
    "    y = ymin + (ymax - ymin) * random.random()\n",
    "    if y <= f(x):\n",
    "        M += 1 \n",
    "        XIntegral.append(x)\n",
    "        YIntegral.append(y)  \n",
    "    else:\n",
    "        XRectangle.append(x) \n",
    "        YRectangle.append(y)              \n",
    "\n",
    "NumericalIntegral = M / N * A\n",
    "print(\"Numerical integration = \" + str(NumericalIntegral))\n",
    "\n",
    "XLin = np.linspace(a, b)\n",
    "YLin = [f(x) for x in XLin]\n",
    "\n",
    "plt.axis([0, b, 0, f(b)])                                            \n",
    "plt.plot(XLin, YLin, color=\"red\", linewidth=4) \n",
    "plt.scatter(XIntegral, YIntegral, color=\"blue\", marker=\".\") \n",
    "plt.scatter(XRectangle, YRectangle, color=\"yellow\", marker=\".\")\n",
    "plt.title(\"Numerical Integration using Monte Carlo method\")\n",
    "plt.show()"
   ]
  },
  {
   "cell_type": "markdown",
   "id": "0bc3345a",
   "metadata": {},
   "source": [
    "## Sensitivity Analysis (Mockup Only)"
   ]
  },
  {
   "cell_type": "code",
   "execution_count": null,
   "id": "03cd6550",
   "metadata": {},
   "outputs": [],
   "source": [
    "# Example sensitivity function\n",
    "import numpy as np\n",
    "import math\n",
    "\n",
    "def my_func(x_1, x_2, x_3):\n",
    "    return math.log(x_1/ x_2 + x_3)\n",
    "\n",
    "x_1 = np.arange(10, 100, 10)\n",
    "x_2 = np.arange(1, 10, 1)\n",
    "x_3 = np.arange(1, 10, 1)\n",
    "\n",
    "print(\"Run external SensitivityAnalyzer if available with input dict:\")\n",
    "print({'x_1':x_1.tolist(), 'x_2':x_2.tolist(), 'x_3':x_3.tolist()})\n",
    "print(\"Function output example:\", my_func(20, 2, 3))"
   ]
  }
 ],
 "metadata": {},
 "nbformat": 4,
 "nbformat_minor": 5
}
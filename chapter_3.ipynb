{
 "cells": [
  {
   "cell_type": "markdown",
   "id": "71b6d632",
   "metadata": {},
   "source": [
    "# Chapter 3: Probability Distributions and Image Augmentation"
   ]
  },
  {
   "cell_type": "markdown",
   "id": "f6e9af89",
   "metadata": {},
   "source": [
    "## Binomial Distribution"
   ]
  },
  {
   "cell_type": "code",
   "execution_count": null,
   "id": "40fccfcc",
   "metadata": {},
   "outputs": [],
   "source": [
    "\n",
    "import numpy as np\n",
    "import matplotlib.pyplot as plt\n",
    "\n",
    "N = 1000\n",
    "n = 10\n",
    "p = 0.5\n",
    "P1 = np.random.binomial(n, p, N)\n",
    "\n",
    "plt.figure()\n",
    "plt.hist(P1, density=True, alpha=0.8, histtype='bar', color='green', ec='black')\n",
    "plt.title('Binomial Distribution (n=10, p=0.5)')\n",
    "plt.show()\n"
   ]
  },
  {
   "cell_type": "markdown",
   "id": "aadcf153",
   "metadata": {},
   "source": [
    "## Normal Distribution"
   ]
  },
  {
   "cell_type": "code",
   "execution_count": null,
   "id": "ba49ba40",
   "metadata": {},
   "outputs": [],
   "source": [
    "\n",
    "import seaborn as sns\n",
    "\n",
    "mu_sigma_pairs = [(5, 2), (10, 2), (15, 2), (10, 2), (10, 1), (10, 0.5)]\n",
    "samples = [np.random.normal(mu, sigma, 1000) for mu, sigma in mu_sigma_pairs]\n",
    "\n",
    "plt.figure()\n",
    "for i, sample in enumerate(samples[:3]):\n",
    "    sns.histplot(sample, stat=\"density\", kde=True, label=f'Sample {i+1}')\n",
    "plt.legend()\n",
    "plt.title('Normal Distributions (First 3)')\n",
    "plt.show()\n",
    "\n",
    "plt.figure()\n",
    "for i, sample in enumerate(samples[3:]):\n",
    "    sns.histplot(sample, stat=\"density\", kde=True, label=f'Sample {i+4}')\n",
    "plt.legend()\n",
    "plt.title('Normal Distributions (Last 3)')\n",
    "plt.show()\n"
   ]
  },
  {
   "cell_type": "markdown",
   "id": "a5f6c691",
   "metadata": {},
   "source": [
    "## Power Analysis"
   ]
  },
  {
   "cell_type": "code",
   "execution_count": null,
   "id": "7ee6586f",
   "metadata": {},
   "outputs": [],
   "source": [
    "\n",
    "import statsmodels.stats.power as ssp\n",
    "\n",
    "stat_power = ssp.TTestPower()\n",
    "\n",
    "sample_size = stat_power.solve_power(effect_size=0.5, nobs=None, alpha=0.05, power=0.8)\n",
    "print(f'Sample Size (to achieve 80% power): {sample_size:.2f}')\n",
    "\n",
    "power = stat_power.solve_power(effect_size=0.5, nobs=33, alpha=0.05, power=None)\n",
    "print(f'Power for sample size 33: {power:.2f}')\n",
    "\n",
    "effect_sizes = np.array([0.2, 0.5, 0.8, 1])\n",
    "sample_sizes = np.arange(5, 500)\n",
    "\n",
    "stat_power.plot_power(dep_var='nobs', nobs=sample_sizes, effect_size=effect_sizes)\n",
    "plt.xlabel('Sample Size')\n",
    "plt.ylabel('Power')\n",
    "plt.title('Power Analysis')\n",
    "plt.show()\n"
   ]
  },
  {
   "cell_type": "markdown",
   "id": "66a0438b",
   "metadata": {},
   "source": [
    "## Uniform Distribution"
   ]
  },
  {
   "cell_type": "code",
   "execution_count": null,
   "id": "b0fe8faa",
   "metadata": {},
   "outputs": [],
   "source": [
    "\n",
    "a, b = 1, 100\n",
    "N = 100\n",
    "X1 = np.random.uniform(a, b, N)\n",
    "\n",
    "plt.figure()\n",
    "plt.plot(X1)\n",
    "plt.title('Uniform Distribution Sample (N=100)')\n",
    "plt.show()\n",
    "\n",
    "plt.figure()\n",
    "plt.hist(X1, density=True, histtype='stepfilled', alpha=0.2)\n",
    "plt.title('Histogram of Uniform Distribution Sample (N=100)')\n",
    "plt.show()\n",
    "\n",
    "N = 10000\n",
    "X2 = np.random.uniform(a, b, N)\n",
    "\n",
    "plt.figure()\n",
    "plt.plot(X2)\n",
    "plt.title('Uniform Distribution Sample (N=10000)')\n",
    "plt.show()\n",
    "\n",
    "plt.figure()\n",
    "plt.hist(X2, density=True, histtype='stepfilled', alpha=0.2)\n",
    "plt.title('Histogram of Uniform Distribution Sample (N=10000)')\n",
    "plt.show()\n"
   ]
  },
  {
   "cell_type": "markdown",
   "id": "6a65f57a",
   "metadata": {},
   "source": [
    "## Image Augmentation"
   ]
  },
  {
   "cell_type": "code",
   "execution_count": null,
   "id": "fefd1dcb",
   "metadata": {},
   "outputs": [],
   "source": [
    "\n",
    "from keras.preprocessing.image import load_img, img_to_array, ImageDataGenerator\n",
    "import os\n",
    "\n",
    "# Make sure image is available\n",
    "img = load_img('chapter_3/colosseum.jpg')  # Adjust path if needed\n",
    "x = img_to_array(img).reshape((1,) + img.size + (3,))\n",
    "\n",
    "image_gen = ImageDataGenerator(\n",
    "    rotation_range=10,\n",
    "    width_shift_range=0.1,\n",
    "    height_shift_range=0.1,\n",
    "    shear_range=0.1,\n",
    "    zoom_range=0.1,\n",
    "    horizontal_flip=True,\n",
    "    fill_mode='nearest'\n",
    ")\n",
    "\n",
    "# Display first 5 augmented images\n",
    "plt.figure(figsize=(15,5))\n",
    "i = 0\n",
    "for batch in image_gen.flow(x, batch_size=1):\n",
    "    plt.subplot(1, 5, i + 1)\n",
    "    plt.imshow(batch[0].astype('uint8'))\n",
    "    plt.axis('off')\n",
    "    i += 1\n",
    "    if i >= 5:\n",
    "        break\n",
    "plt.suptitle('Sample Augmented Images')\n",
    "plt.show()\n"
   ]
  }
 ],
 "metadata": {},
 "nbformat": 4,
 "nbformat_minor": 5
}

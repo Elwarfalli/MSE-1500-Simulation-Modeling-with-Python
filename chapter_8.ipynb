{
 "cells": [
  {
   "cell_type": "code",
   "execution_count": null,
   "id": "7102aad3",
   "metadata": {},
   "outputs": [],
   "source": [
    "import random  # Import the random module to generate random numbers\n",
    "\n",
    "# Define a fitness function that evaluates how good a solution is\n",
    "# In this case, we want to maximize the function f(x) = x^2\n",
    "def fitness(x):\n",
    "    return x * x\n",
    "\n",
    "# Define a mutation function that adds a small random change to x\n",
    "# This simulates trying out new possibilities\n",
    "def mutate(x):\n",
    "    return x + random.uniform(-1, 1)  # Add a random number between -1 and 1\n",
    "\n",
    "# Start with a random solution x between -10 and 10\n",
    "x = random.uniform(-10, 10)\n",
    "\n",
    "# Evolve the solution over 20 generations\n",
    "for gen in range(20):\n",
    "    new_x = mutate(x)  # Try a new version of x\n",
    "    # If the new x has better fitness (higher x^2), keep it\n",
    "    if fitness(new_x) > fitness(x):\n",
    "        x = new_x  # Update the solution to the better one\n",
    "    # Print the current generation, value of x, and its fitness\n",
    "    print(f\"Gen {gen}: x = {x:.2f}, fitness = {fitness(x):.2f}\")\n"
   ]
  }
 ],
 "metadata": {
  "language_info": {
   "name": "python"
  }
 },
 "nbformat": 4,
 "nbformat_minor": 5
}

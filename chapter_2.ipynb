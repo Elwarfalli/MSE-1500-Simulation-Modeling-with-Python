{
  "cells": [
    {
      "cell_type": "markdown",
      "metadata": {
        "id": "VWvlYSryLIj2"
      },
      "source": [
        "# Chapter 2 – Random Number Generators\n",
        "\n",
        "This chapter includes:\n",
        "- Lagged Fibonacci Generator\n",
        "- Linear Congruential Generator\n",
        "- Learmouth-Lewis Generator\n",
        "- Uniformity Test\n",
        "- Encrypt/Decrypt Strings\n",
        "- Random Password Generator\n",
        "- Random Sampling & City Selection\n"
      ],
      "id": "VWvlYSryLIj2"
    },
    {
      "cell_type": "code",
      "source": [
        "# Random Walk in Python\n",
        "\n",
        "import random  # Import Python's built-in random module\n",
        "\n",
        "position = 0           # Start at position 0\n",
        "walk = [position]      # List to keep track of positions during the walk\n",
        "\n",
        "for _ in range(10):    # Perform 10 steps\n",
        "    # Randomly choose step direction: +1 (right) or -1 (left)\n",
        "    # If random number > 0.5, go right; else, go left\n",
        "    step = 1 if random.random() > 0.5 else -1\n",
        "\n",
        "    position += step   # Update position by adding step\n",
        "    walk.append(position)  # Record new position in the walk\n",
        "\n",
        "print(walk)  # Print the list of positions after each step"
      ],
      "metadata": {
        "id": "q9WMepV2LJnz",
        "outputId": "61a117c6-d515-484b-c8ac-986a54f1e5d4",
        "colab": {
          "base_uri": "https://localhost:8080/"
        }
      },
      "id": "q9WMepV2LJnz",
      "execution_count": 4,
      "outputs": [
        {
          "output_type": "stream",
          "name": "stdout",
          "text": [
            "[0, 1, 2, 1, 0, -1, -2, -1, 0, -1, -2]\n"
          ]
        }
      ]
    },
    {
      "cell_type": "code",
      "source": [
        "import numpy as np  # Import the NumPy library for numerical operations\n",
        "\n",
        "# Generate random numbers from a Poisson distribution\n",
        "# lam = 3 means average 3 events per interval\n",
        "# size = 10 means we want 10 such intervals\n",
        "events = np.random.poisson(lam=3, size=10)\n",
        "\n",
        "print(events)  # Output a sample of how many events occurred in each of the 10 intervals\n"
      ],
      "metadata": {
        "id": "b9auVm4nM_Fj"
      },
      "id": "b9auVm4nM_Fj",
      "execution_count": null,
      "outputs": []
    },
    {
      "cell_type": "code",
      "execution_count": null,
      "metadata": {
        "id": "CrEB8XHHLIj4"
      },
      "outputs": [],
      "source": [
        "# lagged_fibonacci_algorithm.py\n",
        "import numpy as np\n",
        "x0=1\n",
        "x1=1\n",
        "m=2**32\n",
        "\n",
        "for i in range(1, 101):\n",
        "    x = np.mod((x0 + x1), m)\n",
        "    x0 = x1\n",
        "    x1 = x\n",
        "    print(x)"
      ],
      "id": "CrEB8XHHLIj4"
    },
    {
      "cell_type": "code",
      "execution_count": null,
      "metadata": {
        "id": "dW7prtiPLIj5"
      },
      "outputs": [],
      "source": [
        "# linear_congruential_generator.py\n",
        "import numpy as np\n",
        "a = 2\n",
        "c = 4\n",
        "m = 5\n",
        "x = 3\n",
        "\n",
        "for i in range(1, 17):\n",
        "    x = np.mod((a * x + c), m)\n",
        "    print(x)"
      ],
      "id": "dW7prtiPLIj5"
    },
    {
      "cell_type": "code",
      "execution_count": null,
      "metadata": {
        "id": "_NcnKGx7LIj5"
      },
      "outputs": [],
      "source": [
        "# learmouth_lewis_generator.py\n",
        "import numpy as np\n",
        "a = 75\n",
        "c = 0\n",
        "m = 2**31 - 1\n",
        "x = 0.1\n",
        "\n",
        "for i in range(1, 100):\n",
        "    x = np.mod((a * x + c), m)\n",
        "    u = x / m\n",
        "    print(u)"
      ],
      "id": "_NcnKGx7LIj5"
    },
    {
      "cell_type": "code",
      "execution_count": null,
      "metadata": {
        "id": "UactcMwbLIj6"
      },
      "outputs": [],
      "source": [
        "# uniformity_test.py\n",
        "import numpy as np\n",
        "import matplotlib.pyplot as plt\n",
        "\n",
        "a = 75\n",
        "c = 0\n",
        "m = 2**31 - 1\n",
        "x = 0.1\n",
        "u = np.array([])\n",
        "\n",
        "for i in range(100):\n",
        "    x = np.mod((a * x + c), m)\n",
        "    u = np.append(u, x / m)\n",
        "    print(u[i])\n",
        "\n",
        "N = 100\n",
        "s = 20\n",
        "Ns = N / s\n",
        "S = np.arange(0, 1, 0.05)\n",
        "counts = np.empty(S.shape, dtype=int)\n",
        "V = 0\n",
        "for i in range(20):\n",
        "    counts[i] = len(np.where((u >= S[i]) & (u < S[i] + 0.05))[0])\n",
        "    V += (counts[i] - Ns) ** 2 / Ns\n",
        "\n",
        "print('R =', counts)\n",
        "print('V =', V)\n",
        "\n",
        "plt.bar(np.arange(len(counts)), counts)\n",
        "plt.show()"
      ],
      "id": "UactcMwbLIj6"
    },
    {
      "cell_type": "code",
      "execution_count": null,
      "metadata": {
        "id": "zMGYipWPLIj6"
      },
      "outputs": [],
      "source": [
        "# encript_decript_strings.py\n",
        "from cryptography.fernet import Fernet\n",
        "\n",
        "title = 'Simulation Modeling with Python'\n",
        "secret_key = Fernet.generate_key()\n",
        "fernet_obj = Fernet(secret_key)\n",
        "enc_title = fernet_obj.encrypt(title.encode())\n",
        "print('Title encrypted =', enc_title)\n",
        "dec_title = fernet_obj.decrypt(enc_title).decode()\n",
        "print('Title decrypted =', dec_title)"
      ],
      "id": "zMGYipWPLIj6"
    },
    {
      "cell_type": "code",
      "execution_count": null,
      "metadata": {
        "id": "yyOEuCuILIj6"
      },
      "outputs": [],
      "source": [
        "# random_password_generator.py\n",
        "import string\n",
        "import random\n",
        "\n",
        "char_set = list(string.ascii_letters + string.digits + '()!$%^&*@#')\n",
        "password_length = 10\n",
        "random.shuffle(char_set)\n",
        "password = [random.choice(char_set) for _ in range(password_length)]\n",
        "random.shuffle(password)\n",
        "print(''.join(password))"
      ],
      "id": "yyOEuCuILIj6"
    },
    {
      "cell_type": "code",
      "execution_count": null,
      "metadata": {
        "id": "6xs6tgboLIj6"
      },
      "outputs": [],
      "source": [
        "# random_generation.py\n",
        "import random\n",
        "\n",
        "for i in range(20):\n",
        "    print('%05.4f' % random.random(), end=' ')\n",
        "print()\n",
        "\n",
        "random.seed(1)\n",
        "for i in range(20):\n",
        "    print('%05.4f' % random.random(), end=' ')\n",
        "print()\n",
        "\n",
        "for i in range(20):\n",
        "    print('%6.4f' % random.uniform(1, 100), end=' ')\n",
        "print()\n",
        "\n",
        "for i in range(20):\n",
        "    print(random.randint(-100, 100), end=' ')\n",
        "print()\n",
        "\n",
        "for i in range(20):\n",
        "    print(random.randrange(0, 100, 5), end=' ')\n",
        "print()\n",
        "\n",
        "CitiesList = ['Rome','New York','London','Berlin','Moskov','Los Angeles','Paris','Madrid','Tokio','Toronto']\n",
        "for i in range(10):\n",
        "    print('Random City:', random.choice(CitiesList))\n",
        "DataList = range(10,100,10)\n",
        "print('Sample:', random.sample(DataList, k=5))"
      ],
      "id": "6xs6tgboLIj6"
    }
  ],
  "metadata": {
    "kernelspec": {
      "display_name": "Python 3",
      "language": "python",
      "name": "python3"
    },
    "language_info": {
      "name": "python",
      "version": "3.8"
    },
    "colab": {
      "provenance": []
    }
  },
  "nbformat": 4,
  "nbformat_minor": 5
}
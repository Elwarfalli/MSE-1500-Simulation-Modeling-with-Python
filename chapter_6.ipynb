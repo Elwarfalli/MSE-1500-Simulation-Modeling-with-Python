{
  "cells": [
    {
      "cell_type": "markdown",
      "metadata": {
        "id": "QK_sVz8Hk1wX"
      },
      "source": [
        "# Chapter 6: Advanced Statistical Methods"
      ]
    },
    {
      "cell_type": "markdown",
      "metadata": {
        "id": "FLwdDkt1k1wZ"
      },
      "source": [
        "## Bootstrap Estimator"
      ]
    },
    {
      "cell_type": "code",
      "source": [
        "# Bootstrap Mean Estimate\n",
        "# Import required libraries\n",
        "import numpy as np                # For numerical operations and random sampling\n",
        "import matplotlib.pyplot as plt   # For plotting the histogram\n",
        "\n",
        "# Original data sample (a small dataset)\n",
        "data = [5, 7, 8, 4, 9, 6, 7, 5, 6]\n",
        "\n",
        "# Create an empty list to store the mean of each bootstrap sample\n",
        "boot_means = []\n",
        "\n",
        "# Repeat the resampling process 1000 times\n",
        "for _ in range(1000):\n",
        "    # Randomly sample data with replacement (same size as original data)\n",
        "    sample = np.random.choice(data, size=len(data), replace=True)\n",
        "\n",
        "    # Compute the mean of the resampled data and add it to the list\n",
        "    boot_means.append(np.mean(sample))\n",
        "\n",
        "# Plot a histogram of the bootstrap sample means\n",
        "plt.hist(boot_means, bins=20, color='skyblue')\n",
        "plt.title('Bootstrap Sample Means')    # Title of the plot\n",
        "plt.xlabel('Mean Value')               # Label for the x-axis\n",
        "plt.ylabel('Frequency')                # Label for the y-axis\n",
        "plt.show()                             # Display the plot\n"
      ],
      "metadata": {
        "colab": {
          "base_uri": "https://localhost:8080/",
          "height": 472
        },
        "id": "RQN_P8Wnk2i8",
        "outputId": "d32b1058-320f-4d5a-c6dc-3634d2d9cd59"
      },
      "execution_count": 1,
      "outputs": [
        {
          "output_type": "display_data",
          "data": {
            "text/plain": [
              "<Figure size 640x480 with 1 Axes>"
            ],
            "image/png": "[encoded data removed]"
          },
          "metadata": {}
        }
      ]
    },
    {
      "cell_type": "code",
      "source": [
        "# Jackknife Estimate\n",
        "# Original dataset (e.g., a small sample of values)\n",
        "data = [5, 7, 8, 4, 9, 6, 7, 5, 6]\n",
        "\n",
        "# Create an empty list to store the jackknife sample means\n",
        "jackknife_means = []\n",
        "\n",
        "# Loop over each data point to leave one out at a time\n",
        "for i in range(len(data)):\n",
        "    # Remove the i-th element to create a new sample (leave-one-out)\n",
        "    subset = data[:i] + data[i+1:]\n",
        "\n",
        "    # Calculate the mean of the reduced sample and store it\n",
        "    jackknife_means.append(np.mean(subset))\n",
        "\n",
        "# Print all the jackknife estimates (means from each subset)\n",
        "print(\"Jackknife Estimates:\", jackknife_means)\n"
      ],
      "metadata": {
        "id": "Gh9KIfGUmP6Q"
      },
      "execution_count": null,
      "outputs": []
    },
    {
      "cell_type": "code",
      "source": [
        "# Jackknife for Sample Mean\n",
        "import numpy as np  # Import NumPy library, which helps with math operations like finding the mean\n",
        "\n",
        "# Example dataset (sample of 5 values)\n",
        "data = [5, 7, 8, 4, 9]\n",
        "\n",
        "# This list will store the Jackknife estimates (means of each leave-one-out sample)\n",
        "jackknife_means = []\n",
        "\n",
        "# Loop over each element in the data\n",
        "for i in range(len(data)):\n",
        "    # Create a new list that leaves out the i-th value (leave-one-out sample)\n",
        "    sample = data[:i] + data[i+1:]  # This joins the part before and after index i\n",
        "    # Compute the mean of this new sample and store it\n",
        "    jackknife_means.append(np.mean(sample))\n",
        "\n",
        "# Print all Jackknife estimates (each mean with one value removed)\n",
        "print(\"Jackknife Estimates:\", jackknife_means)\n"
      ],
      "metadata": {
        "id": "niRseRsBolY8"
      },
      "execution_count": null,
      "outputs": []
    },
    {
      "cell_type": "code",
      "source": [
        "# Estimate Coefficient of Variation (CV) with Jackknife\n",
        "import random, statistics  # Import modules for random number generation and basic statistics\n",
        "\n",
        "# Set a random seed so the generated numbers will be the same each time (for reproducibility)\n",
        "random.seed(5)\n",
        "\n",
        "# Create a list of 100 random numbers between 0 and 10\n",
        "# random.random() generates a float between 0 and 1, then we scale it by 10\n",
        "PopData = [10 * random.random() for _ in range(100)]\n",
        "\n",
        "# Define a function to calculate the Coefficient of Variation (CV)\n",
        "# CV = standard deviation divided by the mean\n",
        "def CVCalc(data):\n",
        "    return statistics.stdev(data) / statistics.mean(data)\n",
        "\n",
        "# Calculate the CV of the original dataset\n",
        "CV_original = CVCalc(PopData)\n",
        "\n",
        "# Print the result\n",
        "print(\"CV of Original Data:\", CV_original)\n"
      ],
      "metadata": {
        "colab": {
          "base_uri": "https://localhost:8080/"
        },
        "id": "mo6xIbdepQVF",
        "outputId": "25e5c5dc-4de4-463b-999b-28ba3b2ebf6d"
      },
      "execution_count": 2,
      "outputs": [
        {
          "output_type": "stream",
          "name": "stdout",
          "text": [
            "CV of Original Data: 0.6569398125747403\n"
          ]
        }
      ]
    },
    {
      "cell_type": "code",
      "source": [
        "# Jackknife CV Estimation in Python\n",
        "# Get the number of data points in the original dataset\n",
        "N = len(PopData)\n",
        "\n",
        "# Create an empty list to store the Jackknife pseudo-values\n",
        "PseudoVal = []\n",
        "\n",
        "# Loop through each data point in the original dataset\n",
        "for i in range(N):\n",
        "    # Create a Jackknife sample by removing the i-th element\n",
        "    JackSample = PopData[:i] + PopData[i+1:]\n",
        "\n",
        "    # Calculate the CV for the Jackknife sample (statistic without one value)\n",
        "    theta_i = CVCalc(JackSample)\n",
        "\n",
        "    # Calculate the Jackknife pseudo-value using the formula:\n",
        "    # θ*_i = N * θ - (N - 1) * θ_i\n",
        "    # This adjusts the estimate to reduce bias\n",
        "    pseudo = N * CV_original - (N - 1) * theta_i\n",
        "\n",
        "    # Add the pseudo-value to the list\n",
        "    PseudoVal.append(pseudo)\n",
        "\n",
        "# Calculate and print the average of the pseudo-values\n",
        "print(\"Mean Pseudo Value:\", statistics.mean(PseudoVal))\n",
        "\n",
        "# Calculate and print the variance of the pseudo-values\n",
        "print(\"Variance:\", statistics.variance(PseudoVal))\n",
        "\n",
        "# Estimate the Jackknife variance (divide the variance of pseudo-values by N)\n",
        "print(\"Jackknife Variance Estimate:\",\n",
        "      statistics.variance(PseudoVal)/N)\n"
      ],
      "metadata": {
        "id": "j_GvePj7pafm"
      },
      "execution_count": null,
      "outputs": []
    },
    {
      "cell_type": "code",
      "source": [
        "# Bootstrapping in Python\n",
        "import random, numpy as np  # Import modules for random numbers and math operations\n",
        "\n",
        "# Set the random seed to make sure we get the same numbers every time we run this code\n",
        "random.seed(7)\n",
        "\n",
        "# Create a list of 1000 random numbers between 0 and 50\n",
        "# random.random() gives a number between 0 and 1; multiplying by 50 scales it to 0–50\n",
        "PopData = [50 * random.random() for _ in range(1000)]\n",
        "\n",
        "# From PopData, randomly pick 100 numbers with replacement to make a sample\n",
        "# 'replacement' means each number can be picked more than once\n",
        "PopSample = random.choices(PopData, k=100)\n",
        "\n",
        "# Create an empty list to store the means of bootstrap samples\n",
        "PopSampleMean = []\n",
        "\n",
        "# Repeat 10,000 times to create many bootstrap samples\n",
        "for _ in range(10000):\n",
        "    # Randomly select 100 values from PopData with replacement to form a bootstrap sample\n",
        "    SampleI = random.choices(PopData, k=100)\n",
        "\n",
        "    # Calculate the mean of this bootstrap sample\n",
        "    sample_mean = np.mean(SampleI)\n",
        "\n",
        "    # Add the mean to the list of bootstrap sample means\n",
        "    PopSampleMean.append(sample_mean)\n",
        "\n"
      ],
      "metadata": {
        "id": "C4gyKNWztGXQ"
      },
      "execution_count": 5,
      "outputs": []
    },
    {
      "cell_type": "code",
      "source": [
        "# # Bootstrapping in Python\n",
        "import matplotlib.pyplot as plt\n",
        "\n",
        "# Plot histogram of bootstrap sample means\n",
        "plt.hist(PopSampleMean, bins=30)\n",
        "plt.title(\"Bootstrap Sample Means\")\n",
        "plt.xlabel(\"Mean\")\n",
        "plt.ylabel(\"Frequency\")\n",
        "plt.show()"
      ],
      "metadata": {
        "id": "O0F62oiFtI9W",
        "outputId": "7977d408-037d-4993-b8c7-e74dd44d8a66",
        "colab": {
          "base_uri": "https://localhost:8080/",
          "height": 472
        }
      },
      "execution_count": 6,
      "outputs": [
        {
          "output_type": "display_data",
          "data": {
            "text/plain": [
              "<Figure size 640x480 with 1 Axes>"
            ],
            "image/png": "[encoded data removed]"
          },
          "metadata": {}
        }
      ]
    },
    {
      "cell_type": "code",
      "source": [
        "# Calculate the average of all bootstrap sample means\n",
        "MeanPopSampleMean = np.mean(PopSampleMean)\n",
        "\n",
        "# Calculate the average of the entire original population data\n",
        "MeanPopData = np.mean(PopData)\n",
        "\n",
        "# Calculate the average of the single random sample we drew earlier\n",
        "MeanPopSample = np.mean(PopSample)\n",
        "\n",
        "# Print the mean from the bootstrap samples\n",
        "print(\"Bootstrap Mean:\", MeanPopSampleMean)\n",
        "\n",
        "# Print the mean of the original population data\n",
        "print(\"Population Mean:\", MeanPopData)\n",
        "\n",
        "# Print the mean of the one random sample\n",
        "print(\"Sample Mean:\", MeanPopSample)\n"
      ],
      "metadata": {
        "id": "E2Q5a6aYtJFm",
        "outputId": "ce3cdbc2-899a-417b-d03d-7719934de108",
        "colab": {
          "base_uri": "https://localhost:8080/"
        }
      },
      "execution_count": 8,
      "outputs": [
        {
          "output_type": "stream",
          "name": "stdout",
          "text": [
            "Bootstrap Mean: 24.105354873028915\n",
            "Population Mean: 24.087053989747968\n",
            "Sample Mean: 23.140472976536497\n"
          ]
        }
      ]
    },
    {
      "cell_type": "code",
      "execution_count": null,
      "metadata": {
        "id": "AQ4Ki30ak1wa"
      },
      "outputs": [],
      "source": [
        "import random\n",
        "import numpy as np\n",
        "import matplotlib.pyplot as plt\n",
        "\n",
        "PopData = list()\n",
        "\n",
        "random.seed(7)\n",
        "\n",
        "for i in range(1000):\n",
        "    DataElem = 50 * random.random()\n",
        "    PopData.append(DataElem)\n",
        "\n",
        "PopSample = random.choices(PopData, k=100)\n",
        "\n",
        "PopSampleMean = list()\n",
        "for i in range(10000):\n",
        "    SampleI = random.choices(PopData, k=100)\n",
        "    PopSampleMean.append(np.mean(SampleI))\n",
        "\n",
        "plt.hist(PopSampleMean)\n",
        "plt.show()\n",
        "\n",
        "MeanPopSampleMean = np.mean(PopSampleMean)\n",
        "print('The mean of the Bootstrap estimator is ', MeanPopSampleMean)\n",
        "\n",
        "MeanPopData = np.mean(PopData)\n",
        "print('The mean of the population is ', MeanPopData)\n",
        "\n",
        "MeanPopSample = np.mean(PopSample)\n",
        "print('The mean of the simple random sample is ', MeanPopSample)"
      ]
    },
    {
      "cell_type": "markdown",
      "metadata": {
        "id": "qpw4p1r1k1wb"
      },
      "source": [
        "## Bootstrap Regression"
      ]
    },
    {
      "cell_type": "code",
      "execution_count": null,
      "metadata": {
        "id": "obfOvg8bk1wb"
      },
      "outputs": [],
      "source": [
        "import numpy as np\n",
        "from sklearn.linear_model import LinearRegression\n",
        "import matplotlib.pyplot as plt\n",
        "import pandas as pd\n",
        "import seaborn as sns\n",
        "\n",
        "x = np.linspace(0, 1, 100)\n",
        "y = x + (np.random.rand(len(x)))\n",
        "\n",
        "for i in range(30):\n",
        "    x = np.append(x, np.random.choice(x))\n",
        "    y = np.append(y, np.random.choice(y))\n",
        "\n",
        "x = x.reshape(-1, 1)\n",
        "y = y.reshape(-1, 1)\n",
        "\n",
        "reg_model = LinearRegression().fit(x, y)\n",
        "\n",
        "r_sq = reg_model.score(x, y)\n",
        "print(f'R squared = {r_sq}')\n",
        "\n",
        "alpha = float(reg_model.coef_[0])\n",
        "print(f'slope: {reg_model.coef_}')\n",
        "beta = float(reg_model.intercept_[0])\n",
        "print(f'intercept: {reg_model.intercept_}')\n",
        "\n",
        "y_pred = reg_model.predict(x)\n",
        "\n",
        "plt.scatter(x, y)\n",
        "plt.plot(x, y_pred, linewidth=2)\n",
        "plt.xlabel('x')\n",
        "plt.ylabel('y')\n",
        "plt.show()\n",
        "\n",
        "boot_slopes = []\n",
        "boot_interc = []\n",
        "r_sqs = []\n",
        "n_boots = 500\n",
        "num_sample = len(x)\n",
        "data = pd.DataFrame({'x': x[:,0], 'y': y[:,0]})\n",
        "\n",
        "plt.figure()\n",
        "for k in range(n_boots):\n",
        "    sample = data.sample(n=num_sample, replace=True)\n",
        "    x_temp = sample['x'].values.reshape(-1, 1)\n",
        "    y_temp = sample['y'].values.reshape(-1, 1)\n",
        "    reg_model = LinearRegression().fit(x_temp, y_temp)\n",
        "    r_sqs_temp = reg_model.score(x_temp, y_temp)\n",
        "    r_sqs.append(r_sqs_temp)\n",
        "    boot_interc.append(float(reg_model.intercept_[0]))\n",
        "    boot_slopes.append(float(reg_model.coef_[0]))\n",
        "    y_pred_temp = reg_model.predict(x_temp)\n",
        "    plt.plot(x_temp, y_pred_temp, color='grey', alpha=0.2)\n",
        "\n",
        "plt.scatter(x, y)\n",
        "plt.plot(x, y_pred, linewidth=2)\n",
        "plt.xlabel('x')\n",
        "plt.ylabel('y')\n",
        "plt.show()\n",
        "\n",
        "sns.histplot(data=boot_slopes, kde=True)\n",
        "plt.show()\n",
        "sns.histplot(data=boot_interc, kde=True)\n",
        "plt.show()\n",
        "\n",
        "plt.plot(r_sqs)\n",
        "\n",
        "max_r_sq = max(r_sqs)\n",
        "print(f'Max R squared = {max_r_sq}')\n",
        "\n",
        "pos_max_r_sq = r_sqs.index(max(r_sqs))\n",
        "print(f'Boot of the best Regression model = {pos_max_r_sq}')\n",
        "\n",
        "max_slope = boot_slopes[pos_max_r_sq]\n",
        "print(f'Slope of the best Regression model = {max_slope}')\n",
        "\n",
        "max_interc = boot_interc[pos_max_r_sq]\n",
        "print(f'Intercept of the best Regression model = {max_interc}')"
      ]
    },
    {
      "cell_type": "markdown",
      "metadata": {
        "id": "azd746ILk1wb"
      },
      "source": [
        "## Jackknife Estimator"
      ]
    },
    {
      "cell_type": "code",
      "execution_count": null,
      "metadata": {
        "id": "jR3Fcf5sk1wb"
      },
      "outputs": [],
      "source": [
        "import random\n",
        "import statistics\n",
        "import matplotlib.pyplot as plt\n",
        "\n",
        "PopData = list()\n",
        "\n",
        "random.seed(5)\n",
        "\n",
        "for i in range(100):\n",
        "    DataElem = 10 * random.random()\n",
        "    PopData.append(DataElem)\n",
        "\n",
        "def CVCalc(Dat):\n",
        "    CVCalc = statistics.stdev(Dat) / statistics.mean(Dat)\n",
        "    return CVCalc\n",
        "\n",
        "CVPopData = CVCalc(PopData)\n",
        "print(CVPopData)\n",
        "\n",
        "N = len(PopData)\n",
        "JackVal = list()\n",
        "PseudoVal = list()\n",
        "for i in range(N-1):\n",
        "    JackVal.append(0)\n",
        "for i in range(N):\n",
        "    PseudoVal.append(0)\n",
        "\n",
        "for i in range(N):\n",
        "    for j in range(N):\n",
        "        if(j < i):\n",
        "            JackVal[j] = PopData[j]\n",
        "        else:\n",
        "            if(j > i):\n",
        "                JackVal[j-1] = PopData[j]\n",
        "    PseudoVal[i] = N * CVCalc(PopData) - (N-1) * CVCalc(JackVal)\n",
        "\n",
        "plt.hist(PseudoVal)\n",
        "plt.show()\n",
        "\n",
        "MeanPseudoVal = statistics.mean(PseudoVal)\n",
        "print(MeanPseudoVal)\n",
        "VariancePseudoVal = statistics.variance(PseudoVal)\n",
        "print(VariancePseudoVal)\n",
        "VarJack = statistics.variance(PseudoVal) / N\n",
        "print(VarJack)"
      ]
    },
    {
      "cell_type": "markdown",
      "metadata": {
        "id": "BAeGY3IQk1wc"
      },
      "source": [
        "## K-Fold Cross Validation"
      ]
    },
    {
      "cell_type": "code",
      "execution_count": null,
      "metadata": {
        "id": "ufSkfB4Sk1wc"
      },
      "outputs": [],
      "source": [
        "import numpy as np\n",
        "from sklearn.model_selection import KFold\n",
        "\n",
        "StartedData = np.arange(10, 110, 10)\n",
        "print(StartedData)\n",
        "\n",
        "kfold = KFold(5, True, 1)\n",
        "\n",
        "for TrainData, TestData in kfold.split(StartedData):\n",
        "    print('Train Data :', StartedData[TrainData], 'Test Data :', StartedData[TestData])"
      ]
    },
    {
      "cell_type": "markdown",
      "metadata": {
        "id": "ohHsd1L3k1wc"
      },
      "source": [
        "## Permutation Test"
      ]
    },
    {
      "cell_type": "code",
      "execution_count": null,
      "metadata": {
        "id": "yO6ZGjIGk1wc"
      },
      "outputs": [],
      "source": [
        "from sklearn.datasets import load_iris\n",
        "import numpy as np\n",
        "from sklearn import tree\n",
        "from sklearn.model_selection import permutation_test_score\n",
        "import matplotlib.pyplot as plt\n",
        "import seaborn as sns\n",
        "\n",
        "data = load_iris()\n",
        "X = data.data\n",
        "y = data.target\n",
        "\n",
        "np.random.seed(0)\n",
        "X_nc_data = np.random.normal(size=(len(X), 4))\n",
        "\n",
        "clf = tree.DecisionTreeClassifier(random_state=1)\n",
        "\n",
        "p_test_iris = permutation_test_score(\n",
        "    clf, X, y, scoring='accuracy', n_permutations=1000\n",
        ")\n",
        "\n",
        "print(f'Score of iris flower classification = {p_test_iris[0]}')\n",
        "print(f'P_value of permutation test for iris dataset = {p_test_iris[2]}')\n",
        "\n",
        "p_test_nc_data = permutation_test_score(\n",
        "    clf, X_nc_data, y, scoring='accuracy', n_permutations=1000\n",
        ")\n",
        "\n",
        "print(f'Score of no-correletd data classification = {p_test_nc_data[0]}')\n",
        "print(f'P_value of permutation test for no-correletd dataset = {p_test_nc_data[2]}')\n",
        "\n",
        "pbox1 = sns.histplot(data=p_test_iris[1], kde=True)\n",
        "plt.axvline(p_test_iris[0], linestyle='-', color='r')\n",
        "plt.axvline(p_test_iris[2], linestyle='--', color='b')\n",
        "pbox1.set(xlim=(0,1))\n",
        "plt.show()\n",
        "\n",
        "pbox2 = sns.histplot(data=p_test_nc_data[1], kde=True)\n",
        "plt.axvline(p_test_nc_data[0], color='r', linestyle='-')\n",
        "plt.axvline(p_test_nc_data[2], color='b', linestyle='--')\n",
        "pbox2.set(xlim=(0,1))\n",
        "plt.show()"
      ]
    }
  ],
  "metadata": {
    "kernelspec": {
      "display_name": "Python 3",
      "language": "python",
      "name": "python3"
    },
    "language_info": {
      "codemirror_mode": {
        "name": "ipython",
        "version": 3
      },
      "file_extension": ".py",
      "mimetype": "text/x-python",
      "name": "python",
      "nbconvert_exporter": "python",
      "pygments_lexer": "ipython3",
      "version": "3.8.0"
    },
    "colab": {
      "provenance": []
    }
  },
  "nbformat": 4,
  "nbformat_minor": 0
}
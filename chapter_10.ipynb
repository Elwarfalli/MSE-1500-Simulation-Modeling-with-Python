{
  "cells": [
    {
      "cell_type": "code",
      "source": [
        "# Install the MDP toolbox\n",
        "!pip install pymdptoolbox\n",
        "\n",
        "# Import necessary packages\n",
        "import mdptoolbox.example\n",
        "import mdptoolbox.mdp\n",
        "import numpy as np\n",
        "\n",
        "# ---------------------------------------\n",
        "# Step 1: Define Tiny Forest MDP\n",
        "# ---------------------------------------\n",
        "P, R = mdptoolbox.example.forest()\n",
        "\n",
        "# Show Transition and Reward Matrices\n",
        "print(\"Transition Matrix for Wait (P[0]):\")\n",
        "print(P[0])\n",
        "\n",
        "print(\"\\nTransition Matrix for Cut (P[1]):\")\n",
        "print(P[1])\n",
        "\n",
        "print(\"\\nReward for Wait:\")\n",
        "print(R[:, 0])\n",
        "\n",
        "print(\"\\nReward for Cut:\")\n",
        "print(R[:, 1])\n",
        "\n",
        "# ---------------------------------------\n",
        "# Step 2: Policy Iteration - Base Case\n",
        "# ---------------------------------------\n",
        "model = mdptoolbox.mdp.PolicyIteration(P, R, 0.9)  # gamma = 0.9\n",
        "model.run()\n",
        "\n",
        "# Output results\n",
        "print(\"\\nOptimal Value Function:\")\n",
        "print(model.V)\n",
        "\n",
        "print(\"\\nOptimal Policy (0=Wait, 1=Cut):\")\n",
        "print(model.policy)\n",
        "\n"
      ],
      "metadata": {
        "id": "wKAQv44rcEbS",
        "outputId": "21fc9c4d-330d-4731-8fb8-22c8562c279f",
        "colab": {
          "base_uri": "https://localhost:8080/"
        }
      },
      "id": "wKAQv44rcEbS",
      "execution_count": 5,
      "outputs": [
        {
          "output_type": "stream",
          "name": "stdout",
          "text": [
            "Requirement already satisfied: pymdptoolbox in /usr/local/lib/python3.11/dist-packages (4.0b3)\n",
            "Requirement already satisfied: numpy in /usr/local/lib/python3.11/dist-packages (from pymdptoolbox) (2.0.2)\n",
            "Requirement already satisfied: scipy in /usr/local/lib/python3.11/dist-packages (from pymdptoolbox) (1.16.0)\n",
            "Transition Matrix for Wait (P[0]):\n",
            "[[0.1 0.9 0. ]\n",
            " [0.1 0.  0.9]\n",
            " [0.1 0.  0.9]]\n",
            "\n",
            "Transition Matrix for Cut (P[1]):\n",
            "[[1. 0. 0.]\n",
            " [1. 0. 0.]\n",
            " [1. 0. 0.]]\n",
            "\n",
            "Reward for Wait:\n",
            "[0. 0. 4.]\n",
            "\n",
            "Reward for Cut:\n",
            "[0. 1. 2.]\n",
            "\n",
            "Optimal Value Function:\n",
            "(26.244000000000014, 29.484000000000016, 33.484000000000016)\n",
            "\n",
            "Optimal Policy (0=Wait, 1=Cut):\n",
            "(0, 0, 0)\n"
          ]
        }
      ]
    },
    {
      "cell_type": "code",
      "source": [
        "# Install the MDP toolbox\n",
        "!pip install pymdptoolbox\n",
        "\n",
        "# Imports\n",
        "import mdptoolbox.example\n",
        "import mdptoolbox.mdp\n",
        "\n",
        "# Default Tiny Forest MDP\n",
        "P, R = mdptoolbox.example.forest()\n",
        "\n",
        "print(\"Reward for Cut:\", R[:, 1])  # Expect [0. 1. 2.]\n",
        "\n",
        "# Solve using Policy Iteration\n",
        "model = mdptoolbox.mdp.PolicyIteration(P, R, 0.9)\n",
        "model.run()\n",
        "\n",
        "print(\"\\nOptimal Value Function:\", model.V)\n",
        "print(\"Optimal Policy (0=Wait, 1=Cut):\", model.policy)\n"
      ],
      "metadata": {
        "id": "KCEsf-ZmctGc",
        "outputId": "116366ce-b2d4-4760-a79b-3fe1a30afd46",
        "colab": {
          "base_uri": "https://localhost:8080/"
        }
      },
      "id": "KCEsf-ZmctGc",
      "execution_count": 6,
      "outputs": [
        {
          "output_type": "stream",
          "name": "stdout",
          "text": [
            "Requirement already satisfied: pymdptoolbox in /usr/local/lib/python3.11/dist-packages (4.0b3)\n",
            "Requirement already satisfied: numpy in /usr/local/lib/python3.11/dist-packages (from pymdptoolbox) (2.0.2)\n",
            "Requirement already satisfied: scipy in /usr/local/lib/python3.11/dist-packages (from pymdptoolbox) (1.16.0)\n",
            "Reward for Cut: [0. 1. 2.]\n",
            "\n",
            "Optimal Value Function: (26.244000000000014, 29.484000000000016, 33.484000000000016)\n",
            "Optimal Policy (0=Wait, 1=Cut): (0, 0, 0)\n"
          ]
        }
      ]
    },
    {
      "cell_type": "code",
      "source": [
        "# Increase fire probability by parameters: S=3, r1=4, r2=2, p=0.8\n",
        "P2, R2 = mdptoolbox.example.forest(3, 4, 2, 0.8)\n",
        "\n",
        "# Solve again\n",
        "model2 = mdptoolbox.mdp.PolicyIteration(P2, R2, 0.9)\n",
        "model2.run()\n",
        "\n",
        "print(\"Policy with High Fire Risk (p=0.8):\", model2.policy)\n"
      ],
      "metadata": {
        "id": "QbTrNYVgctSK",
        "outputId": "a5bec3c3-fb3a-42bb-da58-c57153171460",
        "colab": {
          "base_uri": "https://localhost:8080/"
        }
      },
      "id": "QbTrNYVgctSK",
      "execution_count": 7,
      "outputs": [
        {
          "output_type": "stream",
          "name": "stdout",
          "text": [
            "Policy with High Fire Risk (p=0.8): (0, 1, 0)\n"
          ]
        }
      ]
    }
  ],
  "metadata": {
    "language_info": {
      "name": "python"
    },
    "colab": {
      "provenance": []
    },
    "kernelspec": {
      "name": "python3",
      "display_name": "Python 3"
    }
  },
  "nbformat": 4,
  "nbformat_minor": 5
}
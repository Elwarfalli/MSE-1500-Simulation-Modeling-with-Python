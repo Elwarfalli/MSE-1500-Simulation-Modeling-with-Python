{
  "cells": [
    {
      "cell_type": "code",
      "source": [
        "# Install the MDP toolbox\n",
        "!pip install pymdptoolbox\n",
        "\n",
        "# Import necessary packages\n",
        "import mdptoolbox.example\n",
        "import mdptoolbox.mdp\n",
        "import numpy as np\n",
        "\n",
        "# ---------------------------------------\n",
        "# Step 1: Define Tiny Forest MDP\n",
        "# ---------------------------------------\n",
        "P, R = mdptoolbox.example.forest()\n",
        "\n",
        "# Show Transition and Reward Matrices\n",
        "print(\"Transition Matrix for Wait (P[0]):\")\n",
        "print(P[0])\n",
        "\n",
        "print(\"\\nTransition Matrix for Cut (P[1]):\")\n",
        "print(P[1])\n",
        "\n",
        "print(\"\\nReward for Wait:\")\n",
        "print(R[:, 0])\n",
        "\n",
        "print(\"\\nReward for Cut:\")\n",
        "print(R[:, 1])\n",
        "\n",
        "# ---------------------------------------\n",
        "# Step 2: Policy Iteration - Base Case\n",
        "# ---------------------------------------\n",
        "model = mdptoolbox.mdp.PolicyIteration(P, R, 0.9)  # gamma = 0.9\n",
        "model.run()\n",
        "\n",
        "# Output results\n",
        "print(\"\\nOptimal Value Function:\")\n",
        "print(model.V)\n",
        "\n",
        "print(\"\\nOptimal Policy (0=Wait, 1=Cut):\")\n",
        "print(model.policy)\n",
        "\n"
      ],
      "metadata": {
        "colab": {
          "base_uri": "https://localhost:8080/"
        },
        "id": "wKAQv44rcEbS",
        "outputId": "21fc9c4d-330d-4731-8fb8-22c8562c279f"
      },
      "id": "wKAQv44rcEbS",
      "execution_count": 5,
      "outputs": [
        {
          "output_type": "stream",
          "name": "stdout",
          "text": [
            "Requirement already satisfied: pymdptoolbox in /usr/local/lib/python3.11/dist-packages (4.0b3)\n",
            "Requirement already satisfied: numpy in /usr/local/lib/python3.11/dist-packages (from pymdptoolbox) (2.0.2)\n",
            "Requirement already satisfied: scipy in /usr/local/lib/python3.11/dist-packages (from pymdptoolbox) (1.16.0)\n",
            "Transition Matrix for Wait (P[0]):\n",
            "[[0.1 0.9 0. ]\n",
            " [0.1 0.  0.9]\n",
            " [0.1 0.  0.9]]\n",
            "\n",
            "Transition Matrix for Cut (P[1]):\n",
            "[[1. 0. 0.]\n",
            " [1. 0. 0.]\n",
            " [1. 0. 0.]]\n",
            "\n",
            "Reward for Wait:\n",
            "[0. 0. 4.]\n",
            "\n",
            "Reward for Cut:\n",
            "[0. 1. 2.]\n",
            "\n",
            "Optimal Value Function:\n",
            "(26.244000000000014, 29.484000000000016, 33.484000000000016)\n",
            "\n",
            "Optimal Policy (0=Wait, 1=Cut):\n",
            "(0, 0, 0)\n"
          ]
        }
      ]
    },
    {
      "cell_type": "code",
      "source": [
        "# Install the MDP toolbox\n",
        "!pip install pymdptoolbox\n",
        "\n",
        "# Imports\n",
        "import mdptoolbox.example\n",
        "import mdptoolbox.mdp\n",
        "\n",
        "# Default Tiny Forest MDP\n",
        "P, R = mdptoolbox.example.forest()\n",
        "\n",
        "print(\"Reward for Cut:\", R[:, 1])  # Expect [0. 1. 2.]\n",
        "\n",
        "# Solve using Policy Iteration\n",
        "model = mdptoolbox.mdp.PolicyIteration(P, R, 0.9)\n",
        "model.run()\n",
        "\n",
        "print(\"\\nOptimal Value Function:\", model.V)\n",
        "print(\"Optimal Policy (0=Wait, 1=Cut):\", model.policy)\n"
      ],
      "metadata": {
        "colab": {
          "base_uri": "https://localhost:8080/"
        },
        "id": "KCEsf-ZmctGc",
        "outputId": "116366ce-b2d4-4760-a79b-3fe1a30afd46"
      },
      "id": "KCEsf-ZmctGc",
      "execution_count": 6,
      "outputs": [
        {
          "output_type": "stream",
          "name": "stdout",
          "text": [
            "Requirement already satisfied: pymdptoolbox in /usr/local/lib/python3.11/dist-packages (4.0b3)\n",
            "Requirement already satisfied: numpy in /usr/local/lib/python3.11/dist-packages (from pymdptoolbox) (2.0.2)\n",
            "Requirement already satisfied: scipy in /usr/local/lib/python3.11/dist-packages (from pymdptoolbox) (1.16.0)\n",
            "Reward for Cut: [0. 1. 2.]\n",
            "\n",
            "Optimal Value Function: (26.244000000000014, 29.484000000000016, 33.484000000000016)\n",
            "Optimal Policy (0=Wait, 1=Cut): (0, 0, 0)\n"
          ]
        }
      ]
    },
    {
      "cell_type": "code",
      "source": [
        "# Increase fire probability by parameters: S=3, r1=4, r2=2, p=0.8\n",
        "P2, R2 = mdptoolbox.example.forest(3, 4, 2, 0.8)\n",
        "\n",
        "# Solve again\n",
        "model2 = mdptoolbox.mdp.PolicyIteration(P2, R2, 0.9)\n",
        "model2.run()\n",
        "\n",
        "print(\"Policy with High Fire Risk (p=0.8):\", model2.policy)\n"
      ],
      "metadata": {
        "colab": {
          "base_uri": "https://localhost:8080/"
        },
        "id": "QbTrNYVgctSK",
        "outputId": "a5bec3c3-fb3a-42bb-da58-c57153171460"
      },
      "id": "QbTrNYVgctSK",
      "execution_count": 7,
      "outputs": [
        {
          "output_type": "stream",
          "name": "stdout",
          "text": [
            "Policy with High Fire Risk (p=0.8): (0, 1, 0)\n"
          ]
        }
      ]
    },
    {
      "cell_type": "code",
      "source": [
        "# Import necessary libraries\n",
        "import numpy as np\n",
        "import matplotlib.pyplot as plt\n",
        "\n",
        "# Number of Monte Carlo simulations\n",
        "N = 10000\n",
        "\n",
        "# Define task durations using 3-point estimates: [Optimistic, Most Likely, Pessimistic]\n",
        "# For example: Task 1 duration could be as short as 3 days (optimistic),\n",
        "# most likely 5 days, or as long as 8 days (pessimistic)\n",
        "TaskTimes = [\n",
        "    [3, 5, 8],  # Task 1\n",
        "    [2, 4, 7],  # Task 2\n",
        "    [3, 5, 9],  # Task 3\n",
        "    [4, 6, 10], # Task 4\n",
        "    [3, 5, 9],  # Task 5\n",
        "    [2, 6, 8]   # Task 6\n",
        "]\n",
        "\n",
        "# Calculate the mode location (Lh) parameter for triangular distribution for each task\n",
        "# Lh = (Most Likely - Optimistic) / (Pessimistic - Optimistic)\n",
        "Lh = [(m - a) / (b - a) for a, m, b in TaskTimes]\n",
        "\n",
        "# Initialize an empty array to store simulated durations for each task in each run\n",
        "T = np.empty((N, 6))\n",
        "\n",
        "# List to hold total project duration for each simulation run\n",
        "TotalTime = []\n",
        "\n",
        "# Run Monte Carlo simulation N times\n",
        "for p in range(N):\n",
        "    for i in range(6):\n",
        "        tr = np.random.random()  # Random number between 0 and 1\n",
        "        a, m, b = TaskTimes[i]   # Unpack optimistic, most likely, pessimistic\n",
        "\n",
        "        # Sample from triangular distribution:\n",
        "        if tr < Lh[i]:\n",
        "            # Left side of triangular distribution\n",
        "            T[p][i] = a + np.sqrt(tr * (m - a) * (b - a))\n",
        "        else:\n",
        "            # Right side of triangular distribution\n",
        "            T[p][i] = b - np.sqrt((1 - tr) * (b - m) * (b - a))\n",
        "\n",
        "    # Calculate total project duration based on dependencies:\n",
        "    # Task 1 runs first\n",
        "    # Then Task 2 and Task 3 run in parallel, so take max duration\n",
        "    # Then Task 4 and Task 5 run in parallel, take max duration\n",
        "    # Finally Task 6 runs last\n",
        "    total = T[p][0] + max(T[p][1], T[p][2]) + max(T[p][3], T[p][4]) + T[p][5]\n",
        "    TotalTime.append(total)\n",
        "\n",
        "# Convert list to numpy array for easier calculations\n",
        "TotalTime = np.array(TotalTime)\n",
        "\n",
        "# Print basic statistics about project duration\n",
        "print(\"Minimum project duration (days):\", np.min(TotalTime))\n",
        "print(\"Average project duration (days):\", np.mean(TotalTime))\n",
        "print(\"Maximum project duration (days):\", np.max(TotalTime))\n",
        "\n",
        "# Plot histogram of project durations to visualize distribution\n",
        "plt.hist(TotalTime, bins=20, color='skyblue', edgecolor='black')\n",
        "plt.title(\"Monte Carlo Simulation of Project Duration\")\n",
        "plt.xlabel(\"Total Project Duration (days)\")\n",
        "plt.ylabel(\"Frequency\")\n",
        "plt.grid(True)\n",
        "plt.show()\n"
      ],
      "metadata": {
        "id": "3XheptzSlSKL",
        "outputId": "eee17799-2be1-4084-ca37-82a1356a688a",
        "colab": {
          "base_uri": "https://localhost:8080/",
          "height": 526
        }
      },
      "id": "3XheptzSlSKL",
      "execution_count": 8,
      "outputs": [
        {
          "output_type": "stream",
          "name": "stdout",
          "text": [
            "Minimum project duration (days): 15.84620637658805\n",
            "Average project duration (days): 23.4967740526603\n",
            "Maximum project duration (days): 32.312216253721715\n"
          ]
        },
        {
          "output_type": "display_data",
          "data": {
            "text/plain": [
              "<Figure size 640x480 with 1 Axes>"
            ],
            "image/png": "[encoded data removed]"
          },
          "metadata": {}
        }
      ]
    }
  ],
  "metadata": {
    "language_info": {
      "name": "python"
    },
    "colab": {
      "provenance": []
    },
    "kernelspec": {
      "name": "python3",
      "display_name": "Python 3"
    }
  },
  "nbformat": 4,
  "nbformat_minor": 5
}
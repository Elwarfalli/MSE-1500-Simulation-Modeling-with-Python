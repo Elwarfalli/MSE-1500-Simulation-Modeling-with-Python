{
  "cells": [
    {
      "cell_type": "markdown",
      "metadata": {
        "id": "_UgMYp6JyjcT"
      },
      "source": [
        "# Chapter 5: Agent-Based Models and Simulations"
      ]
    },
    {
      "cell_type": "markdown",
      "metadata": {
        "id": "LXg0sIvMyjcU"
      },
      "source": [
        "## Schelling Model"
      ]
    },
    {
      "cell_type": "code",
      "source": [
        "# Create a list of starting positions for 3 agents\n",
        "positions = [0, 1, 2]  # Agent 1 starts at 0, Agent 2 at 1, Agent 3 at 2\n",
        "\n",
        "# Loop over 3 time steps (simulating time passing)\n",
        "for t in range(3):  # t = 0, 1, 2\n",
        "    # Move each agent forward by 1 step\n",
        "    positions = [x + 1 for x in positions]\n",
        "\n",
        "    # Print the current step and the updated positions of the agents\n",
        "    print(\"Step\", t, \":\", positions)\n"
      ],
      "metadata": {
        "id": "5atrmvmvynLY",
        "outputId": "ca860327-430b-41cd-80b3-f3bad9de50c9",
        "colab": {
          "base_uri": "https://localhost:8080/"
        }
      },
      "execution_count": 1,
      "outputs": [
        {
          "output_type": "stream",
          "name": "stdout",
          "text": [
            "Step 0 : [1, 2, 3]\n",
            "Step 1 : [2, 3, 4]\n",
            "Step 2 : [3, 4, 5]\n"
          ]
        }
      ]
    },
    {
      "cell_type": "code",
      "execution_count": null,
      "metadata": {
        "id": "DacYopOsyjcU"
      },
      "outputs": [],
      "source": [
        "import matplotlib.pyplot as plt\n",
        "from random import random\n",
        "\n",
        "class SchAgent:\n",
        "\n",
        "    def __init__(self, type):\n",
        "        self.type = type\n",
        "        self.ag_location()\n",
        "\n",
        "    def ag_location(self):\n",
        "        self.location = random(), random()\n",
        "\n",
        "    def euclidean_distance(self, new):\n",
        "        eu_dist = ((self.location[0] - new.location[0])**2 + (self.location[1] - new.location[1])**2)**(1/2)\n",
        "        return eu_dist\n",
        "\n",
        "    def satisfaction(self, agents):\n",
        "        eu_dist = []\n",
        "        for agent in agents:\n",
        "            if self != agent:\n",
        "                eu_distance = self.euclidean_distance(agent)\n",
        "                eu_dist.append((eu_distance, agent))\n",
        "        eu_dist.sort()\n",
        "        neigh_agent = [agent for k, agent in eu_dist[:neigh_num]]\n",
        "        neigh_itself = sum(self.type == agent.type for agent in neigh_agent)\n",
        "        return neigh_itself >= neigh_threshold\n",
        "\n",
        "    def update(self, agents):\n",
        "        while not self.satisfaction(agents):\n",
        "            self.ag_location()\n",
        "\n",
        "def grid_plot(agents, step):\n",
        "    x_A, y_A = [], []\n",
        "    x_B, y_B = [], []\n",
        "    for agent in agents:\n",
        "        x, y = agent.location\n",
        "        if agent.type == 0:\n",
        "            x_A.append(x)\n",
        "            y_A.append(y)\n",
        "        else:\n",
        "            x_B.append(x)\n",
        "            y_B.append(y)\n",
        "    fig, ax = plt.subplots(figsize=(10, 10))\n",
        "    ax.plot(x_A, y_A, '^', markerfacecolor='b', markersize=10)\n",
        "    ax.plot(x_B, y_B, 'o', markerfacecolor='r', markersize=10)\n",
        "    ax.set_title(f'Step number = {step}')\n",
        "    plt.show()\n",
        "\n",
        "num_agents_A = 500\n",
        "num_agents_B = 500\n",
        "neigh_num = 8\n",
        "neigh_threshold = 4\n",
        "\n",
        "agents = [SchAgent(0) for i in range(num_agents_A)]\n",
        "agents.extend(SchAgent(1) for i in range(num_agents_B))\n",
        "\n",
        "step = 0\n",
        "k = 0\n",
        "while (k < (num_agents_A + num_agents_B)):\n",
        "    print('Step number = ', step)\n",
        "    grid_plot(agents, step)\n",
        "    step += 1\n",
        "    k = 0\n",
        "    for agent in agents:\n",
        "        old_location = agent.location\n",
        "        agent.update(agents)\n",
        "        if agent.location == old_location:\n",
        "            k = k + 1\n",
        "else:\n",
        "    print(f'Satisfied agents with {neigh_threshold/neigh_num*100} % of similar neighbors')"
      ]
    },
    {
      "cell_type": "markdown",
      "metadata": {
        "id": "D3UbyUK9yjcV"
      },
      "source": [
        "## Simulating Random Walk"
      ]
    },
    {
      "cell_type": "code",
      "execution_count": null,
      "metadata": {
        "id": "cEzU5qxsyjcW"
      },
      "outputs": [],
      "source": [
        "from random import seed\n",
        "from random import random\n",
        "from matplotlib import pyplot\n",
        "\n",
        "seed(1)\n",
        "RWPath = list()\n",
        "RWPath.append(-1 if random() < 0.5 else 1)\n",
        "for i in range(1, 1000):\n",
        "    ZNValue = -1 if random() < 0.5 else 1\n",
        "    XNValue = RWPath[i-1] + ZNValue\n",
        "    RWPath.append(XNValue)\n",
        "pyplot.plot(RWPath)\n",
        "pyplot.show()"
      ]
    },
    {
      "cell_type": "markdown",
      "metadata": {
        "id": "QPskUbkqyjcW"
      },
      "source": [
        "## Weather Forecasting"
      ]
    },
    {
      "cell_type": "code",
      "execution_count": null,
      "metadata": {
        "id": "gO7agHZoyjcW"
      },
      "outputs": [],
      "source": [
        "import numpy as np\n",
        "import matplotlib.pyplot as plt\n",
        "\n",
        "np.random.seed(3)\n",
        "StatesData = ['Sunny', 'Rainy']\n",
        "\n",
        "TransitionStates = [['SuSu', 'SuRa'], ['RaRa', 'RaSu']]\n",
        "TransitionMatrix = [[0.80, 0.20], [0.25, 0.75]]\n",
        "\n",
        "WeatherForecasting = list()\n",
        "NumDays = 365\n",
        "TodayPrediction = StatesData[0]\n",
        "\n",
        "print('Weather initial condition =', TodayPrediction)\n",
        "\n",
        "for i in range(1, NumDays):\n",
        "    if TodayPrediction == 'Sunny':\n",
        "        TransCondition = np.random.choice(TransitionStates[0], replace=True, p=TransitionMatrix[0])\n",
        "        if TransCondition == 'SuSu':\n",
        "            pass\n",
        "        else:\n",
        "            TodayPrediction = 'Rainy'\n",
        "    elif TodayPrediction == 'Rainy':\n",
        "        TransCondition = np.random.choice(TransitionStates[1], replace=True, p=TransitionMatrix[1])\n",
        "        if TransCondition == 'RaRa':\n",
        "            pass\n",
        "        else:\n",
        "            TodayPrediction = 'Sunny'\n",
        "    WeatherForecasting.append(TodayPrediction)\n",
        "    print(TodayPrediction)\n",
        "\n",
        "plt.plot(WeatherForecasting)\n",
        "plt.show()\n",
        "\n",
        "plt.figure()\n",
        "plt.hist(WeatherForecasting)\n",
        "plt.show()"
      ]
    }
  ],
  "metadata": {
    "kernelspec": {
      "display_name": "Python 3",
      "language": "python",
      "name": "python3"
    },
    "language_info": {
      "codemirror_mode": {
        "name": "ipython",
        "version": 3
      },
      "file_extension": ".py",
      "mimetype": "text/x-python",
      "name": "python",
      "nbconvert_exporter": "python",
      "pygments_lexer": "ipython3",
      "version": "3.8.0"
    },
    "colab": {
      "provenance": []
    }
  },
  "nbformat": 4,
  "nbformat_minor": 0
}
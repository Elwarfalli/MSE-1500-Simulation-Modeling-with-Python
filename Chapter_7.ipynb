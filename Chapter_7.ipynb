{
 "cells": [
  {
   "cell_type": "markdown",
   "id": "cd6f1bb1",
   "metadata": {},
   "source": [
    "Chapter 7: **Use simulation to improve and optimize systems.**"
   ]
  },
  {
   "cell_type": "code",
   "execution_count": null,
   "id": "b0cfc54b",
   "metadata": {},
   "outputs": [],
   "source": [
    "\n",
    "\n",
    "# Goal: Minimize f(x) = (x - 3)^2\n",
    "\n",
    "def f(x):\n",
    "    return (x - 3)**2\n",
    "\n",
    "x = 0           # Starting point\n",
    "lr = 0.1        # Learning rate\n",
    "for i in range(20):\n",
    "    grad = 2 * (x - 3)    # Derivative of f(x)\n",
    "    x = x - lr * grad     # Gradient descent step\n",
    "    print(f\"Step {i}: x = {x:.2f}, f(x) = {f(x):.2f}\")"
   ]
  },
  {
   "cell_type": "code",
   "execution_count": null,
   "id": "39901b3d",
   "metadata": {},
   "outputs": [],
   "source": []
  }
 ],
 "metadata": {
  "language_info": {
   "name": "python"
  }
 },
 "nbformat": 4,
 "nbformat_minor": 5
}
